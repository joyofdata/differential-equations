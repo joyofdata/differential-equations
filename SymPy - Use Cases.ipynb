{
 "cells": [
  {
   "cell_type": "code",
   "execution_count": 2,
   "metadata": {
    "collapsed": false
   },
   "outputs": [],
   "source": [
    "import sympy\n",
    "sympy.init_printing(use_latex=True)\n",
    "\n",
    "from IPython.display import display, Math, Latex\n",
    "disp_math = lambda str: display(Math(str))"
   ]
  },
  {
   "cell_type": "markdown",
   "metadata": {},
   "source": [
    "# Finding Solutions of Differential Equation"
   ]
  },
  {
   "cell_type": "code",
   "execution_count": null,
   "metadata": {
    "collapsed": true
   },
   "outputs": [],
   "source": [
    "y,t,l,a,b = sympy.symbols(\"y t lambda a b\")"
   ]
  },
  {
   "cell_type": "markdown",
   "metadata": {},
   "source": [
    "to be solved:"
   ]
  },
  {
   "cell_type": "code",
   "execution_count": null,
   "metadata": {
    "collapsed": false
   },
   "outputs": [],
   "source": [
    "a,b,c = 1,3,2\n",
    "eq0 = sympy.Eq(a*y(t).diff(t,2) + b*y(t).diff(t)+c*y(t),0)\n",
    "eq0"
   ]
  },
  {
   "cell_type": "markdown",
   "metadata": {},
   "source": [
    "guessing family of solution:"
   ]
  },
  {
   "cell_type": "code",
   "execution_count": null,
   "metadata": {
    "collapsed": false
   },
   "outputs": [],
   "source": [
    "eq1 = eq0.subs(y(t), sympy.exp(l*t))\n",
    "eq1"
   ]
  },
  {
   "cell_type": "markdown",
   "metadata": {},
   "source": [
    "differentiation:"
   ]
  },
  {
   "cell_type": "code",
   "execution_count": null,
   "metadata": {
    "collapsed": false
   },
   "outputs": [],
   "source": [
    "eq2 = eq1.doit()\n",
    "eq2"
   ]
  },
  {
   "cell_type": "markdown",
   "metadata": {},
   "source": [
    "solving for $\\lambda$:"
   ]
  },
  {
   "cell_type": "code",
   "execution_count": null,
   "metadata": {
    "collapsed": false
   },
   "outputs": [],
   "source": [
    "sol = sympy.solve(eq2, l)\n",
    "disp_math(\"y(t) \\in \\{e^{%dt}, e^{%dt}\\}\" % (sol[0],sol[1]))"
   ]
  },
  {
   "cell_type": "markdown",
   "metadata": {},
   "source": [
    "### solving the initial value problem"
   ]
  },
  {
   "cell_type": "markdown",
   "metadata": {},
   "source": [
    "$$v := \\frac{dy}{dt}, y(0)=3, v(0)=-5$$"
   ]
  },
  {
   "cell_type": "markdown",
   "metadata": {},
   "source": [
    "linear combination of solutions (and its derivative):"
   ]
  },
  {
   "cell_type": "code",
   "execution_count": null,
   "metadata": {
    "collapsed": false
   },
   "outputs": [],
   "source": [
    "y = (sympy.exp(l*t).subs(l,sol[0])*a \n",
    "        + sympy.exp(l*t).subs(l,sol[1])*b\n",
    "    )\n",
    "y"
   ]
  },
  {
   "cell_type": "code",
   "execution_count": null,
   "metadata": {
    "collapsed": false
   },
   "outputs": [],
   "source": [
    "v = y.diff(t)\n",
    "v"
   ]
  },
  {
   "cell_type": "markdown",
   "metadata": {},
   "source": [
    "solving the initial value problem:"
   ]
  },
  {
   "cell_type": "code",
   "execution_count": null,
   "metadata": {
    "collapsed": false
   },
   "outputs": [],
   "source": [
    "sol = sympy.solve([\n",
    "        sympy.Eq(y.subs(t,0), 3),\n",
    "        sympy.Eq(v.subs(t,0), -5)\n",
    "    ], [a,b])\n",
    "sol"
   ]
  },
  {
   "cell_type": "code",
   "execution_count": null,
   "metadata": {
    "collapsed": false,
    "scrolled": true
   },
   "outputs": [],
   "source": [
    "y.subs([(a, sol[a]), (b, sol[b])])"
   ]
  },
  {
   "cell_type": "markdown",
   "metadata": {},
   "source": [
    "---\n",
    "# Solving First-Order Differential Equation"
   ]
  },
  {
   "cell_type": "code",
   "execution_count": 98,
   "metadata": {
    "collapsed": false
   },
   "outputs": [],
   "source": [
    "x_0, y_0, t = sympy.symbols(\"x_0, y_0, t\")\n",
    "x = sympy.Function(\"x\")(t)\n",
    "y = sympy.Function(\"y\")(t)"
   ]
  },
  {
   "cell_type": "markdown",
   "metadata": {},
   "source": [
    "the system to be solved:"
   ]
  },
  {
   "cell_type": "code",
   "execution_count": 105,
   "metadata": {
    "collapsed": false
   },
   "outputs": [
    {
     "data": {
      "image/png": "[encoded data removed]",
      "text/latex": [
       "$$\\left ( \\frac{d}{d t} x{\\left (t \\right )} = 2 x{\\left (t \\right )} + 3 y{\\left (t \\right )}, \\quad \\frac{d}{d t} y{\\left (t \\right )} = - 4 y{\\left (t \\right )}\\right )$$"
      ],
      "text/plain": [
       "⎛d                           d                 ⎞\n",
       "⎜──(x(t)) = 2⋅x(t) + 3⋅y(t), ──(y(t)) = -4⋅y(t)⎟\n",
       "⎝dt                          dt                ⎠"
      ]
     },
     "execution_count": 105,
     "metadata": {},
     "output_type": "execute_result"
    }
   ],
   "source": [
    "eq_dx = sympy.Eq(x.diff(t), 2*x + 3*y)\n",
    "eq_dy = sympy.Eq(y.diff(t), -4*y)\n",
    "eq_dx, eq_dy"
   ]
  },
  {
   "cell_type": "markdown",
   "metadata": {},
   "source": [
    "solving:"
   ]
  },
  {
   "cell_type": "code",
   "execution_count": 106,
   "metadata": {
    "collapsed": false
   },
   "outputs": [
    {
     "data": {
      "image/png": "[encoded data removed]",
      "text/latex": [
       "$$\\left [ x{\\left (t \\right )} = 3 C_{1} e^{- 4 t} + 3 C_{2} e^{2 t}, \\quad y{\\left (t \\right )} = - 6 C_{1} e^{- 4 t}\\right ]$$"
      ],
      "text/plain": [
       "⎡             -4⋅t         2⋅t                -4⋅t⎤\n",
       "⎣x(t) = 3⋅C₁⋅ℯ     + 3⋅C₂⋅ℯ   , y(t) = -6⋅C₁⋅ℯ    ⎦"
      ]
     },
     "execution_count": 106,
     "metadata": {},
     "output_type": "execute_result"
    }
   ],
   "source": [
    "sol = sympy.dsolve([\n",
    "    eq_dx,\n",
    "    eq_dy\n",
    "])\n",
    "sol"
   ]
  },
  {
   "cell_type": "markdown",
   "metadata": {},
   "source": [
    "collecting the parameters:"
   ]
  },
  {
   "cell_type": "code",
   "execution_count": 107,
   "metadata": {
    "collapsed": false
   },
   "outputs": [
    {
     "data": {
      "image/png": "[encoded data removed]",
      "text/latex": [
       "$$\\left [ C_{2}, \\quad t, \\quad C_{1}\\right ]$$"
      ],
      "text/plain": [
       "[C₂, t, C₁]"
      ]
     },
     "execution_count": 107,
     "metadata": {},
     "output_type": "execute_result"
    }
   ],
   "source": [
    "symbols = list(sol[0].atoms(sympy.Symbol))\n",
    "symbols"
   ]
  },
  {
   "cell_type": "code",
   "execution_count": 108,
   "metadata": {
    "collapsed": false
   },
   "outputs": [],
   "source": [
    "C_1, C_2 = symbols[2], symbols[0]"
   ]
  },
  {
   "cell_type": "markdown",
   "metadata": {},
   "source": [
    "solving for a generalized initial condition:"
   ]
  },
  {
   "cell_type": "code",
   "execution_count": 109,
   "metadata": {
    "collapsed": false
   },
   "outputs": [
    {
     "data": {
      "image/png": "[encoded data removed]",
      "text/latex": [
       "$$\\left \\{ C_{1} : - \\frac{y_{0}}{6}, \\quad C_{2} : \\frac{x_{0}}{3} + \\frac{y_{0}}{6}\\right \\}$$"
      ],
      "text/plain": [
       "⎧    -y₀       x₀   y₀⎫\n",
       "⎨C₁: ────, C₂: ── + ──⎬\n",
       "⎩     6        3    6 ⎭"
      ]
     },
     "execution_count": 109,
     "metadata": {},
     "output_type": "execute_result"
    }
   ],
   "source": [
    "sol2 = sympy.solve(\n",
    "    [\n",
    "        sympy.Eq(sol[0].subs(t,0).rhs, x_0),\n",
    "        sympy.Eq(sol[1].subs(t,0).rhs, y_0)\n",
    "    ],\n",
    "    [C_1,C_2]\n",
    ")\n",
    "sol2"
   ]
  },
  {
   "cell_type": "markdown",
   "metadata": {},
   "source": [
    "the full solution:"
   ]
  },
  {
   "cell_type": "code",
   "execution_count": 110,
   "metadata": {
    "collapsed": false
   },
   "outputs": [
    {
     "data": {
      "image/png": "[encoded data removed]",
      "text/latex": [
       "$$\\left [ x{\\left (t \\right )} = - \\frac{y_{0}}{2} e^{- 4 t} + 3 \\left(\\frac{x_{0}}{3} + \\frac{y_{0}}{6}\\right) e^{2 t}, \\quad y{\\left (t \\right )} = y_{0} e^{- 4 t}\\right ]$$"
      ],
      "text/plain": [
       "⎡             -4⋅t                                    ⎤\n",
       "⎢         y₀⋅ℯ         ⎛x₀   y₀⎞  2⋅t             -4⋅t⎥\n",
       "⎢x(t) = - ──────── + 3⋅⎜── + ──⎟⋅ℯ   , y(t) = y₀⋅ℯ    ⎥\n",
       "⎣            2         ⎝3    6 ⎠                      ⎦"
      ]
     },
     "execution_count": 110,
     "metadata": {},
     "output_type": "execute_result"
    }
   ],
   "source": [
    "sol3 = [s.subs(sol2) for s in sol]\n",
    "sol3"
   ]
  },
  {
   "cell_type": "code",
   "execution_count": null,
   "metadata": {
    "collapsed": true
   },
   "outputs": [],
   "source": []
  }
 ],
 "metadata": {
  "kernelspec": {
   "display_name": "Python 3",
   "language": "python",
   "name": "python3"
  },
  "language_info": {
   "codemirror_mode": {
    "name": "ipython",
    "version": 3
   },
   "file_extension": ".py",
   "mimetype": "text/x-python",
   "name": "python",
   "nbconvert_exporter": "python",
   "pygments_lexer": "ipython3",
   "version": "3.4.3"
  }
 },
 "nbformat": 4,
 "nbformat_minor": 0
}
