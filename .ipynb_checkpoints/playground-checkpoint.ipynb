{
 "cells": [
  {
   "cell_type": "code",
   "execution_count": 15,
   "metadata": {
    "collapsed": false
   },
   "outputs": [],
   "source": [
    "import numpy as np\n",
    "import matplotlib.pyplot as plt\n",
    "import scipy.integrate\n",
    "import scipy.optimize\n",
    "import math\n",
    "import inspect"
   ]
  },
  {
   "cell_type": "code",
   "execution_count": 10,
   "metadata": {
    "collapsed": true
   },
   "outputs": [],
   "source": [
    "def f1(y, t):\n",
    "    return y + t**2.0"
   ]
  },
  {
   "cell_type": "code",
   "execution_count": 40,
   "metadata": {
    "collapsed": false
   },
   "outputs": [],
   "source": [
    "def f2(y):\n",
    "    return (y+10**-3) * math.sin(math.pi/2 * y+10**-3)"
   ]
  },
  {
   "cell_type": "code",
   "execution_count": 83,
   "metadata": {
    "collapsed": false
   },
   "outputs": [
    {
     "data": {
      "image/png": "[encoded data removed]",
      "text/plain": [
       "<matplotlib.figure.Figure at 0x7f94bc0d2c18>"
      ]
     },
     "metadata": {},
     "output_type": "display_data"
    }
   ],
   "source": [
    "%matplotlib inline\n",
    "import matplotlib.pyplot as plt\n",
    "import scipy.optimize\n",
    "import math\n",
    "\n",
    "eps = 10**-3\n",
    "\n",
    "def f(y):\n",
    "    return (y+eps) * math.sin(math.pi/2 * y+eps)\n",
    "\n",
    "v = np.arange(-math.pi,math.pi,step=0.01)\n",
    "plt.plot(v,np.vectorize(f2)(v))\n",
    "plt.grid(True)\n",
    "plt.show()"
   ]
  },
  {
   "cell_type": "code",
   "execution_count": 121,
   "metadata": {
    "collapsed": false
   },
   "outputs": [],
   "source": [
    "y_lim = (-10,10)\n",
    "step = 1e-5\n",
    "tol = 1e-3\n",
    "\n",
    "zeros, zero = [], []\n",
    "for y in np.arange(-10,10,step=step):\n",
    "    if abs(f(y)) < tol:\n",
    "        zero.append(y)\n",
    "    elif len(zero) > 0:\n",
    "        zeros.append(np.mean(zero))\n",
    "        zero = []"
   ]
  },
  {
   "cell_type": "code",
   "execution_count": 122,
   "metadata": {
    "collapsed": false
   },
   "outputs": [
    {
     "data": {
      "text/plain": [
       "[-8.0006350000756914,\n",
       " -6.0006400001514066,\n",
       " -4.0006350002271223,\n",
       " -2.0006350003028377,\n",
       " -0.00082000037854612629,\n",
       " 1.9993649995457314,\n",
       " 3.999364999470016,\n",
       " 5.9993599993943008,\n",
       " 7.9993649993185851,\n",
       " 9.9993599992428699]"
      ]
     },
     "execution_count": 122,
     "metadata": {},
     "output_type": "execute_result"
    }
   ],
   "source": [
    "zeros"
   ]
  },
  {
   "cell_type": "code",
   "execution_count": 13,
   "metadata": {
    "collapsed": false
   },
   "outputs": [
    {
     "data": {
      "text/plain": [
       "ArgSpec(args=['y', 't'], varargs=None, keywords=None, defaults=None)"
      ]
     },
     "execution_count": 13,
     "metadata": {},
     "output_type": "execute_result"
    }
   ],
   "source": [
    "inspect.getargspec(f1)"
   ]
  },
  {
   "cell_type": "markdown",
   "metadata": {},
   "source": [
    "# Solving dy/dt = f(y,t) and Slope Fields"
   ]
  },
  {
   "cell_type": "code",
   "execution_count": 3,
   "metadata": {
    "collapsed": true
   },
   "outputs": [],
   "source": [
    "def draw_slope_field(ax, f, t_lim, y_lim, s_len, t_step, y_step):\n",
    "    ts = np.arange(t_lim[0], t_lim[1]+t_step, step=t_step)\n",
    "    ys = np.arange(y_lim[0], y_lim[1]+y_step, step=y_step)\n",
    "\n",
    "    for t in ts:\n",
    "        for y in ys:\n",
    "            s = f(y,t)\n",
    "\n",
    "            fac = s_len / math.sqrt(t_step**2 + s**2*t_step**2)\n",
    "\n",
    "            x1, x2 = t, t + fac * t_step\n",
    "            y1, y2 = y, y + fac * t_step * s \n",
    "\n",
    "            x1, x2 = x1-(x2-x1)/2, x2-(x2-x1)/2\n",
    "            y1, y2 = y1-(y2-y1)/2, y2-(y2-y1)/2\n",
    "\n",
    "            ax.plot([x1,x2],[y1,y2], 'b', alpha=.4)"
   ]
  },
  {
   "cell_type": "code",
   "execution_count": 4,
   "metadata": {
    "collapsed": false
   },
   "outputs": [],
   "source": [
    "def ode_solve(f, ic, t_lim, y_lim, t_del=0.1):\n",
    "    f_ode = lambda y,t: [f(y[0],t)]\n",
    "    \n",
    "    t0, y0 = ic\n",
    "    ts_pos = np.arange(t0, t_lim[1]+t_del, step=t_del)\n",
    "    ts_neg = np.arange(t0, t_lim[0]-t_del, step=-t_del)\n",
    "    ts = np.append(ts_neg[::-1],ts_pos)\n",
    "\n",
    "    res_pos = scipy.integrate.odeint(\n",
    "        f_ode, [y0], ts_pos)\n",
    "\n",
    "    res_neg = scipy.integrate.odeint(\n",
    "        f_ode, [y0], ts_neg)\n",
    "\n",
    "    res = np.append(res_neg[::-1], res_pos)\n",
    "    \n",
    "    return (ts, res)"
   ]
  },
  {
   "cell_type": "code",
   "execution_count": 5,
   "metadata": {
    "collapsed": true
   },
   "outputs": [],
   "source": [
    "\n",
    "\n",
    "t_step = .3\n",
    "y_step = .3\n",
    "t_lim = (-3,3)\n",
    "y_lim = (-3,3)\n",
    "\n",
    "s_len = 0.8*min(t_step, y_step)"
   ]
  },
  {
   "cell_type": "code",
   "execution_count": 21,
   "metadata": {
    "collapsed": false
   },
   "outputs": [],
   "source": [
    "fig = plt.figure()\n",
    "ax = fig.add_subplot(111)\n",
    "ax.set_aspect('equal')\n",
    "ax.set_xlim(t_lim)\n",
    "ax.set_ylim(y_lim)\n",
    "\n",
    "draw_slope_field(ax, f, t_lim, y_lim, s_len, t_step, y_step)\n",
    "\n",
    "res_ode = ode_solve(f, (2,-3), t_lim, y_lim)\n",
    "ax.plot(res_ode[0], res_ode[1], color=\"red\")\n",
    "\n",
    "plt.grid(True)\n",
    "plt.show()"
   ]
  },
  {
   "cell_type": "markdown",
   "metadata": {},
   "source": [
    "# dy/dt = f(y) and Phase Lines"
   ]
  },
  {
   "cell_type": "code",
   "execution_count": 1,
   "metadata": {
    "collapsed": true
   },
   "outputs": [],
   "source": [
    "def draw_phase_line(f, t0, y_lim):\n",
    "    return"
   ]
  },
  {
   "cell_type": "code",
   "execution_count": null,
   "metadata": {
    "collapsed": true
   },
   "outputs": [],
   "source": []
  }
 ],
 "metadata": {
  "kernelspec": {
   "display_name": "Python 3",
   "language": "python",
   "name": "python3"
  },
  "language_info": {
   "codemirror_mode": {
    "name": "ipython",
    "version": 3
   },
   "file_extension": ".py",
   "mimetype": "text/x-python",
   "name": "python",
   "nbconvert_exporter": "python",
   "pygments_lexer": "ipython3",
   "version": "3.4.3"
  }
 },
 "nbformat": 4,
 "nbformat_minor": 0
}
