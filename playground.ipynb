{
 "cells": [
  {
   "cell_type": "code",
   "execution_count": 15,
   "metadata": {
    "collapsed": false
   },
   "outputs": [],
   "source": [
    "import numpy as np\n",
    "import matplotlib.pyplot as plt\n",
    "import scipy.integrate\n",
    "import math"
   ]
  },
  {
   "cell_type": "markdown",
   "metadata": {},
   "source": [
    "# Solving dy/dt = f(y,t) and Slope Fields"
   ]
  },
  {
   "cell_type": "code",
   "execution_count": 16,
   "metadata": {
    "collapsed": true
   },
   "outputs": [],
   "source": [
    "def slope_field(ax, f, t_lim, y_lim, s_len, t_step, y_step):\n",
    "    ts = np.arange(t_lim[0], t_lim[1]+t_step, step=t_step)\n",
    "    ys = np.arange(y_lim[0], y_lim[1]+y_step, step=y_step)\n",
    "\n",
    "    for t in ts:\n",
    "        for y in ys:\n",
    "            s = f(y,t)\n",
    "\n",
    "            fac = s_len / math.sqrt(t_step**2 + s**2*t_step**2)\n",
    "\n",
    "            x1, x2 = t, t + fac * t_step\n",
    "            y1, y2 = y, y + fac * t_step * s \n",
    "\n",
    "            x1, x2 = x1-(x2-x1)/2, x2-(x2-x1)/2\n",
    "            y1, y2 = y1-(y2-y1)/2, y2-(y2-y1)/2\n",
    "\n",
    "            ax.plot([x1,x2],[y1,y2], 'b', alpha=.4)"
   ]
  },
  {
   "cell_type": "code",
   "execution_count": 17,
   "metadata": {
    "collapsed": false
   },
   "outputs": [],
   "source": [
    "def ode_solve(f, ic, t_lim, y_lim, t_del=0.1):\n",
    "    f_ode = lambda y,t: [f(y[0],t)]\n",
    "    \n",
    "    t0, y0 = ic\n",
    "    ts_pos = np.arange(t0, t_lim[1]+t_del, step=t_del)\n",
    "    ts_neg = np.arange(t0, t_lim[0]-t_del, step=-t_del)\n",
    "    ts = np.append(ts_neg[::-1],ts_pos)\n",
    "\n",
    "    res_pos = scipy.integrate.odeint(\n",
    "        f_ode, [y0], ts_pos)\n",
    "\n",
    "    res_neg = scipy.integrate.odeint(\n",
    "        f_ode, [y0], ts_neg)\n",
    "\n",
    "    res = np.append(res_neg[::-1], res_pos)\n",
    "    \n",
    "    return (ts, res)"
   ]
  },
  {
   "cell_type": "code",
   "execution_count": 20,
   "metadata": {
    "collapsed": true
   },
   "outputs": [],
   "source": [
    "def f(y, t):\n",
    "    return y + t**2.0\n",
    "\n",
    "t_step = .3\n",
    "y_step = .3\n",
    "t_lim = (-3,3)\n",
    "y_lim = (-3,3)\n",
    "\n",
    "s_len = 0.8*min(t_step, y_step)"
   ]
  },
  {
   "cell_type": "code",
   "execution_count": 21,
   "metadata": {
    "collapsed": false
   },
   "outputs": [],
   "source": [
    "fig = plt.figure()\n",
    "ax = fig.add_subplot(111)\n",
    "ax.set_aspect('equal')\n",
    "ax.set_xlim(t_lim)\n",
    "ax.set_ylim(y_lim)\n",
    "\n",
    "slope_field(ax, f, t_lim, y_lim, s_len, t_step, y_step)\n",
    "\n",
    "res_ode = ode_solve(f, (2,-3), t_lim, y_lim)\n",
    "ax.plot(res_ode[0], res_ode[1], color=\"red\")\n",
    "\n",
    "plt.grid(True)\n",
    "plt.show()"
   ]
  },
  {
   "cell_type": "markdown",
   "metadata": {},
   "source": [
    "# dy/dt = f(y) and Phase Lines"
   ]
  },
  {
   "cell_type": "code",
   "execution_count": null,
   "metadata": {
    "collapsed": true
   },
   "outputs": [],
   "source": []
  }
 ],
 "metadata": {
  "kernelspec": {
   "display_name": "Python 3",
   "language": "python",
   "name": "python3"
  },
  "language_info": {
   "codemirror_mode": {
    "name": "ipython",
    "version": 3
   },
   "file_extension": ".py",
   "mimetype": "text/x-python",
   "name": "python",
   "nbconvert_exporter": "python",
   "pygments_lexer": "ipython3",
   "version": "3.4.3"
  }
 },
 "nbformat": 4,
 "nbformat_minor": 0
}
